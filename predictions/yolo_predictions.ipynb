{
 "cells": [
  {
   "cell_type": "code",
   "execution_count": 1,
   "id": "74160b19-bf90-48d2-8686-2b957da4d3db",
   "metadata": {},
   "outputs": [],
   "source": [
    "import cv2\n",
    "import numpy as np\n",
    "import os\n",
    "import yaml\n",
    "from yaml.loader import SafeLoader\n"
   ]
  },
  {
   "cell_type": "code",
   "execution_count": 2,
   "id": "55bd4558-d549-45a2-859b-39840787e240",
   "metadata": {},
   "outputs": [
    {
     "name": "stdout",
     "output_type": "stream",
     "text": [
      " Volume in drive C is Windows\n",
      " Volume Serial Number is B424-2B37\n",
      "\n",
      " Directory of C:\\Users\\Nitin Kumar\\Desktop\\majorcse\\predictions\n",
      "\n",
      "26-10-2024  11:35    <DIR>          .\n",
      "26-10-2024  11:01    <DIR>          ..\n",
      "29-10-2024  21:41    <DIR>          .ipynb_checkpoints\n",
      "26-10-2024  10:45    <DIR>          __pycache__\n",
      "26-10-2024  10:54             3,325 app.py\n",
      "04-10-2024  13:10            61,810 best.jpg\n",
      "04-10-2024  13:08            33,600 big_image.webp\n",
      "02-10-2024  03:32             6,865 car.jpeg\n",
      "02-10-2024  03:33             8,470 car2.jpeg\n",
      "02-10-2024  01:01               109 data.yaml\n",
      "02-10-2024  03:27            12,575 download (1).jpeg\n",
      "02-10-2024  03:12             9,637 fig1.jpeg\n",
      "02-10-2024  02:59    <DIR>          hell\n",
      "26-10-2024  10:44             2,121 helper.py\n",
      "02-10-2024  03:31            13,376 images.jpeg\n",
      "02-10-2024  03:29            44,925 istockphoto-1289817747-612x612.jpg\n",
      "04-10-2024  00:52         4,982,656 istockphoto-2167695060-640_adpp_is.mp4\n",
      "04-10-2024  13:14         1,618,232 istockphoto-936189570-640_adpp_is.mp4\n",
      "26-10-2024  10:55         2,694,167 temp_video.mp4\n",
      "04-10-2024  00:39           332,515 Th�ringen-Rundfahrt_der_Frauen_2013_047.JPG\n",
      "04-10-2024  13:22         2,599,080 video_one.mp4\n",
      "18-10-2024  21:54                 0 yolo_model.pkl\n",
      "18-10-2024  21:55            25,182 yolo_predictions.ipynb\n",
      "              18 File(s)     12,448,645 bytes\n",
      "               5 Dir(s)  40,476,504,064 bytes free\n"
     ]
    }
   ],
   "source": [
    "ls"
   ]
  },
  {
   "cell_type": "code",
   "execution_count": 3,
   "id": "585a1017-ff14-4df5-90ba-c675e2738580",
   "metadata": {},
   "outputs": [],
   "source": [
    "from helper import YOLO_Pred"
   ]
  },
  {
   "cell_type": "code",
   "execution_count": 4,
   "id": "ee1db288-0021-445d-8374-9554f353af37",
   "metadata": {},
   "outputs": [
    {
     "name": "stdout",
     "output_type": "stream",
     "text": [
      "Current Working Directory: C:\\Users\\Nitin Kumar\\Desktop\\majorcse\\predictions\n"
     ]
    }
   ],
   "source": [
    "import os\n",
    "\n",
    "# Get the current working directory\n",
    "current_directory = os.getcwd()\n",
    "\n",
    "print(f\"Current Working Directory: {current_directory}\")\n"
   ]
  },
  {
   "cell_type": "code",
   "execution_count": 5,
   "id": "9b1c9f96-7108-48e3-bdcd-36f36e2e79ff",
   "metadata": {},
   "outputs": [],
   "source": [
    "yolo =YOLO_Pred('hell/weights/best.onnx' , 'data.yaml')"
   ]
  },
  {
   "cell_type": "code",
   "execution_count": 25,
   "id": "206bed41-15fd-4cc9-9667-d1962fa41655",
   "metadata": {},
   "outputs": [
    {
     "name": "stdout",
     "output_type": "stream",
     "text": [
      "emergency : 83%\n",
      "emergency : 79%\n",
      "emergency : 74%\n",
      "emergency : 55%\n",
      "emergency : 53%\n",
      "emergency : 51%\n",
      "emergency : 46%\n",
      "emergency : 42%\n"
     ]
    }
   ],
   "source": [
    "## image \n",
    "import cv2\n",
    "\n",
    "\n",
    "# Initialize YOLO_Pred with your model and YAML configuration\n",
    "yolo = YOLO_Pred('hell/weights/best.onnx', 'data.yaml')\n",
    "\n",
    " #Load the image for prediction\n",
    "img = cv2.imread('best.jpg')\n",
    "#cv2.imshow('img', img)\n",
    "#cv2.waitKey(0)\n",
    "#cv2.destroyAllWindows()\n",
    "\n",
    "# Get predictions\n",
    "img_pred, predicted_texts = yolo.predictions(img)\n",
    "\n",
    "# Show predicted image\n",
    "cv2.imshow('predictions', img_pred)\n",
    "cv2.waitKey(0)\n",
    "cv2.destroyAllWindows()\n",
    "\n",
    "# Print predicted texts\n",
    "for text in predicted_texts:\n",
    "    print(text)\n"
   ]
  },
  {
   "cell_type": "code",
   "execution_count": 6,
   "id": "d21adaa8-0d9b-4e9c-b900-1cbea2c7cded",
   "metadata": {},
   "outputs": [
    {
     "name": "stdout",
     "output_type": "stream",
     "text": [
      "Unable to read video\n"
     ]
    }
   ],
   "source": [
    "# video\n",
    "import cv2\n",
    "\n",
    "# Initialize video capture from video file\n",
    "cap = cv2.VideoCapture('')  # Replace with your video file path\n",
    "\n",
    "# Define the dimensions of your laptop screen (adjust to fit your resolution)\n",
    "frame_width = 1280  # or any other width to fit your screen\n",
    "frame_height = 720  # or any other height to fit your screen\n",
    "\n",
    "while True:\n",
    "    ret, frame = cap.read()\n",
    "    if not ret:\n",
    "        print('Unable to read video')\n",
    "        break\n",
    "\n",
    "    # Call YOLO prediction function and unpack the result\n",
    "    pred_image, predicted_texts = yolo.predictions(frame)\n",
    "    \n",
    "    # Resize the predicted image to fit within your laptop screen\n",
    "    resized_image = cv2.resize(pred_image, (frame_width, frame_height))\n",
    "\n",
    "    # Display the resized image\n",
    "    cv2.imshow('YOLO', resized_image)\n",
    "\n",
    "    # Optionally print predicted texts for each frame\n",
    "    for text in predicted_texts:\n",
    "        print(text)\n",
    "\n",
    "    # Exit when 'ESC' key is pressed\n",
    "    if cv2.waitKey(1) == 27:  # 27 is the ASCII for the ESC key\n",
    "        break\n",
    "\n",
    "# Clean up\n",
    "cv2.destroyAllWindows()\n",
    "cap.release()\n"
   ]
  },
  {
   "cell_type": "code",
   "execution_count": 6,
   "id": "3147fa71-f141-4f8c-98f5-5b83237198fc",
   "metadata": {},
   "outputs": [
    {
     "ename": "TypeError",
     "evalue": "cannot pickle 'cv2.dnn.Net' object",
     "output_type": "error",
     "traceback": [
      "\u001b[1;31m---------------------------------------------------------------------------\u001b[0m",
      "\u001b[1;31mTypeError\u001b[0m                                 Traceback (most recent call last)",
      "Cell \u001b[1;32mIn[6], line 8\u001b[0m\n\u001b[0;32m      6\u001b[0m \u001b[38;5;66;03m# Save the class instance using pickle\u001b[39;00m\n\u001b[0;32m      7\u001b[0m \u001b[38;5;28;01mwith\u001b[39;00m \u001b[38;5;28mopen\u001b[39m(\u001b[38;5;124m'\u001b[39m\u001b[38;5;124myolo_model.pkl\u001b[39m\u001b[38;5;124m'\u001b[39m, \u001b[38;5;124m'\u001b[39m\u001b[38;5;124mwb\u001b[39m\u001b[38;5;124m'\u001b[39m) \u001b[38;5;28;01mas\u001b[39;00m f:\n\u001b[1;32m----> 8\u001b[0m     \u001b[43mpickle\u001b[49m\u001b[38;5;241;43m.\u001b[39;49m\u001b[43mdump\u001b[49m\u001b[43m(\u001b[49m\u001b[43myolo\u001b[49m\u001b[43m,\u001b[49m\u001b[43m \u001b[49m\u001b[43mf\u001b[49m\u001b[43m)\u001b[49m\n",
      "\u001b[1;31mTypeError\u001b[0m: cannot pickle 'cv2.dnn.Net' object"
     ]
    }
   ],
   "source": [
    "import pickle\n",
    "\n",
    "# Create an instance of YOLO_Pred\n",
    "yolo = YOLO_Pred('hell/weights/best.onnx', 'data.yaml')\n",
    "\n",
    "# Save the class instance using pickle\n",
    "with open('yolo_model.pkl', 'wb') as f:\n",
    "    pickle.dump(yolo, f)\n"
   ]
  },
  {
   "cell_type": "code",
   "execution_count": null,
   "id": "46faa71a-e093-4d44-8e48-b8497f45d05b",
   "metadata": {},
   "outputs": [],
   "source": []
  }
 ],
 "metadata": {
  "kernelspec": {
   "display_name": "Python 3 (ipykernel)",
   "language": "python",
   "name": "python3"
  },
  "language_info": {
   "codemirror_mode": {
    "name": "ipython",
    "version": 3
   },
   "file_extension": ".py",
   "mimetype": "text/x-python",
   "name": "python",
   "nbconvert_exporter": "python",
   "pygments_lexer": "ipython3",
   "version": "3.11.0"
  },
  "widgets": {
   "application/vnd.jupyter.widget-state+json": {
    "state": {},
    "version_major": 2,
    "version_minor": 0
   }
  }
 },
 "nbformat": 4,
 "nbformat_minor": 5
}
