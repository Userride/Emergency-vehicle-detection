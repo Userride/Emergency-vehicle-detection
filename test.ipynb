{
 "cells": [
  {
   "cell_type": "code",
   "execution_count": 3,
   "id": "78736d41-3449-4ef9-9a89-1c518c043e3a",
   "metadata": {},
   "outputs": [
    {
     "name": "stdout",
     "output_type": "stream",
     "text": [
      "Successfully organized 118 image-label pairs.\n"
     ]
    }
   ],
   "source": [
    "import os\n",
    "import shutil\n",
    "\n",
    "# Paths to the image and label folders\n",
    "image_folder = 'test/images'  # Folder containing images\n",
    "label_folder = 'test/labels'  # Folder containing text files\n",
    "output_folder = 'data_images/test'  # Folder where you want to save them together\n",
    "\n",
    "# Create output folder if it doesn't exist\n",
    "os.makedirs(output_folder, exist_ok=True)\n",
    "\n",
    "# Get lists of images and labels\n",
    "images = sorted([f for f in os.listdir(image_folder) if f.endswith(('.jpg', '.png', '.jpeg'))])\n",
    "labels = sorted([f for f in os.listdir(label_folder) if f.endswith('.txt')])\n",
    "\n",
    "# Ensure equal number of images and labels\n",
    "if len(images) != len(labels):\n",
    "    print(\"Mismatch between the number of images and labels.\")\n",
    "else:\n",
    "    for image, label in zip(images, labels):\n",
    "        image_path = os.path.join(image_folder, image)\n",
    "        label_path = os.path.join(label_folder, label)\n",
    "\n",
    "        # Copy image and label into the output folder\n",
    "        shutil.copy(image_path, os.path.join(output_folder, image))\n",
    "        shutil.copy(label_path, os.path.join(output_folder, label))\n",
    "\n",
    "    print(f\"Successfully organized {len(images)} image-label pairs.\")\n"
   ]
  },
  {
   "cell_type": "code",
   "execution_count": null,
   "id": "fcfa02ae-46a1-4063-94ca-0647fe9e0049",
   "metadata": {},
   "outputs": [],
   "source": []
  }
 ],
 "metadata": {
  "kernelspec": {
   "display_name": "Python 3 (ipykernel)",
   "language": "python",
   "name": "python3"
  },
  "language_info": {
   "codemirror_mode": {
    "name": "ipython",
    "version": 3
   },
   "file_extension": ".py",
   "mimetype": "text/x-python",
   "name": "python",
   "nbconvert_exporter": "python",
   "pygments_lexer": "ipython3",
   "version": "3.11.0"
  },
  "widgets": {
   "application/vnd.jupyter.widget-state+json": {
    "state": {},
    "version_major": 2,
    "version_minor": 0
   }
  }
 },
 "nbformat": 4,
 "nbformat_minor": 5
}
